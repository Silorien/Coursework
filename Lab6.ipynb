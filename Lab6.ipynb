{
 "cells": [
  {
   "cell_type": "code",
   "execution_count": 8,
   "id": "78f5664a",
   "metadata": {},
   "outputs": [
    {
     "name": "stdout",
     "output_type": "stream",
     "text": [
      "Enter password: password\n",
      "You have entered the correct password.\n"
     ]
    }
   ],
   "source": [
    "if input(\"Enter password: \") == \"password\": \n",
    "        print(\"You have entered the correct password.\")\n",
    "else: print(\"Incorrect\")"
   ]
  },
  {
   "cell_type": "code",
   "execution_count": null,
   "id": "aaf9ce9b",
   "metadata": {},
   "outputs": [],
   "source": []
  },
  {
   "cell_type": "code",
   "execution_count": 14,
   "id": "102b82a3",
   "metadata": {},
   "outputs": [
    {
     "name": "stdout",
     "output_type": "stream",
     "text": [
      "Enter mark: 79\n",
      "Your mark of 79 is poor.\n"
     ]
    }
   ],
   "source": [
    "_mark = int(input(\"Enter mark: \"))\n",
    "if _mark >= 120:\n",
    "    print(\"Your mark of \" + str(_mark) + \" is good.\")\n",
    "elif  80 <= _mark < 120:\n",
    "    print(\"Your mark of \" + str(_mark) + \" is average.\")\n",
    "else: print(\"Your mark of \" + str(_mark) + \" is poor.\")"
   ]
  },
  {
   "cell_type": "code",
   "execution_count": 16,
   "id": "058d143d",
   "metadata": {},
   "outputs": [
    {
     "name": "stdout",
     "output_type": "stream",
     "text": [
      "y\n",
      "High\n"
     ]
    }
   ],
   "source": [
    "if input() > \"f\":\n",
    "    print(\"High\")\n",
    "else: print(\"Low\")"
   ]
  },
  {
   "cell_type": "code",
   "execution_count": 30,
   "id": "70d99af6",
   "metadata": {},
   "outputs": [
    {
     "name": "stdout",
     "output_type": "stream",
     "text": [
      "0\n"
     ]
    }
   ],
   "source": [
    "import random\n",
    "\n",
    "print(int(random.random()))"
   ]
  },
  {
   "cell_type": "code",
   "execution_count": 40,
   "id": "12876f25",
   "metadata": {},
   "outputs": [
    {
     "name": "stdout",
     "output_type": "stream",
     "text": [
      "Please enter mark: 41\n",
      "Pass\n",
      "Good\n"
     ]
    }
   ],
   "source": [
    "_mark = int(input(\"Please enter mark: \"))\n",
    "\n",
    "if _mark >= 40:\n",
    "    print(\"Pass\")\n",
    "    if _mark > 70:\n",
    "          print(\"Excellent\")\n",
    "    else:\n",
    "        print(\"Good\")\n",
    "else: print(\"Fail\")"
   ]
  },
  {
   "cell_type": "code",
   "execution_count": 41,
   "id": "a3ff25ae",
   "metadata": {},
   "outputs": [
    {
     "name": "stdout",
     "output_type": "stream",
     "text": [
      "count = 0\n",
      "count = 1\n",
      "count = 2\n",
      "count = 3\n",
      "count = 4\n",
      "count = 5\n",
      "count = 6\n",
      "count = 7\n",
      "count = 8\n",
      "count = 9\n"
     ]
    }
   ],
   "source": [
    "count = 0\n",
    "\n",
    "while count < 10 :\n",
    "     print(\"count = \" + str(count))\n",
    "     count = count + 1\n"
   ]
  },
  {
   "cell_type": "code",
   "execution_count": 43,
   "id": "28eacce3",
   "metadata": {},
   "outputs": [
    {
     "name": "stdout",
     "output_type": "stream",
     "text": [
      "Please enter the number of output lines 6\n",
      "Line 0\n",
      "Line 1\n",
      "Line 2\n",
      "Line 3\n",
      "Line 4\n",
      "Line 5\n",
      "\n"
     ]
    }
   ],
   "source": [
    "num_lines = int(input(\"Please enter the number of output lines \"))\n",
    "count = 0\n",
    "output = \"\"\n",
    "while count < num_lines:\n",
    "    output = output + \"Line \" + str(count) + \"\\n\"\n",
    "    count = count + 1\n",
    "    \n",
    "print(output);\n"
   ]
  },
  {
   "cell_type": "code",
   "execution_count": 44,
   "id": "33f7b1f4",
   "metadata": {},
   "outputs": [
    {
     "name": "stdout",
     "output_type": "stream",
     "text": [
      "Input the upper limit 8\n",
      "0\n",
      "1\n",
      "2\n",
      "3\n",
      "4\n",
      "5\n",
      "6\n",
      "7\n"
     ]
    }
   ],
   "source": [
    "top = int(input(\"Input the upper limit \"))\n",
    "for count in range(top):\n",
    "        print(count)\n"
   ]
  },
  {
   "cell_type": "code",
   "execution_count": 78,
   "id": "d5b29412",
   "metadata": {},
   "outputs": [
    {
     "name": "stdout",
     "output_type": "stream",
     "text": [
      "Enter the initial weight in kg in the sum: 5\n"
     ]
    },
    {
     "ename": "KeyboardInterrupt",
     "evalue": "",
     "output_type": "error",
     "traceback": [
      "\u001b[1;31m---------------------------------------------------------------------------\u001b[0m",
      "\u001b[1;31mKeyboardInterrupt\u001b[0m                         Traceback (most recent call last)",
      "Input \u001b[1;32mIn [78]\u001b[0m, in \u001b[0;36m<cell line: 3>\u001b[1;34m()\u001b[0m\n\u001b[0;32m      2\u001b[0m weight \u001b[38;5;241m=\u001b[39m \u001b[38;5;28mint\u001b[39m(\u001b[38;5;28minput\u001b[39m(\u001b[38;5;124m\"\u001b[39m\u001b[38;5;124mEnter the initial weight in kg in the sum: \u001b[39m\u001b[38;5;124m\"\u001b[39m))\n\u001b[0;32m      3\u001b[0m \u001b[38;5;28;01mwhile\u001b[39;00m weight \u001b[38;5;241m!=\u001b[39m \u001b[38;5;241m-\u001b[39m\u001b[38;5;241m1\u001b[39m:\n\u001b[1;32m----> 4\u001b[0m     total_weight \u001b[38;5;241m+\u001b[39m\u001b[38;5;241m=\u001b[39m \u001b[43mweight\u001b[49m\n\u001b[0;32m      5\u001b[0m \u001b[38;5;28;01mif\u001b[39;00m total_weight \u001b[38;5;241m>\u001b[39m\u001b[38;5;241m=\u001b[39m \u001b[38;5;241m10\u001b[39m:\n\u001b[0;32m      6\u001b[0m     \u001b[38;5;28mprint\u001b[39m(\u001b[38;5;124m'\u001b[39m\u001b[38;5;124mTotal weight is\u001b[39m\u001b[38;5;124m'\u001b[39m, total)\n",
      "\u001b[1;31mKeyboardInterrupt\u001b[0m: "
     ]
    }
   ],
   "source": [
    "total_weight = 0\n",
    "weight = int(input(\"Enter the initial weight in kg in the sum: \"))\n",
    "while weight != -1:\n",
    "    total_weight += weight\n",
    "if total_weight >= 10:\n",
    "    print('Total weight is', total)\n",
    "    break\n",
    "    weight = int(input(\"Enter another weight to continue the sum or -1 to finish: \"))\n",
    "else:\n",
    "    print(\"Total weight is less than 10kg and is equal to\" , total)\n"
   ]
  },
  {
   "cell_type": "code",
   "execution_count": 82,
   "id": "0eb2bb01",
   "metadata": {},
   "outputs": [
    {
     "name": "stdout",
     "output_type": "stream",
     "text": [
      "Found an even number 0\n",
      "Found an odd number 1\n",
      "Found an even number 2\n",
      "Found an odd number 3\n",
      "Found an even number 4\n",
      "Found an odd number 5\n",
      "Found an even number 6\n",
      "Found an odd number 7\n",
      "Found an even number 8\n",
      "Found an odd number 9\n"
     ]
    }
   ],
   "source": [
    "for num in range(10):\n",
    "    if num % 2 == 0:\n",
    "        print(\"Found an even number\", num)\n",
    "    else:\n",
    "        print(\"Found an odd number\", num)\n"
   ]
  },
  {
   "cell_type": "code",
   "execution_count": null,
   "id": "83be1720",
   "metadata": {},
   "outputs": [],
   "source": []
  }
 ],
 "metadata": {
  "kernelspec": {
   "display_name": "Python 3 (ipykernel)",
   "language": "python",
   "name": "python3"
  },
  "language_info": {
   "codemirror_mode": {
    "name": "ipython",
    "version": 3
   },
   "file_extension": ".py",
   "mimetype": "text/x-python",
   "name": "python",
   "nbconvert_exporter": "python",
   "pygments_lexer": "ipython3",
   "version": "3.9.12"
  }
 },
 "nbformat": 4,
 "nbformat_minor": 5
}
